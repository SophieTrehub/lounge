{
 "cells": [
  {
   "cell_type": "markdown",
   "metadata": {},
   "source": [
    "Назва дисципліни: Обробка та аналіз біомедичних даних"
   ]
  },
  {
   "cell_type": "markdown",
   "metadata": {},
   "source": [
    "Група: БС-83"
   ]
  },
  {
   "cell_type": "markdown",
   "metadata": {},
   "source": [
    "Студент: Каліновська Б.В."
   ]
  },
  {
   "cell_type": "markdown",
   "metadata": {},
   "source": [
    "Лабораторна робота №6"
   ]
  },
  {
   "cell_type": "markdown",
   "metadata": {},
   "source": [
    "Тема:Парний t-критерій Стьюдента"
   ]
  },
  {
   "cell_type": "markdown",
   "metadata": {},
   "source": [
    "Завдання:"
   ]
  },
  {
   "cell_type": "markdown",
   "metadata": {},
   "source": [
    "1. Обрати реальні дані з kaggle або сгенерувати випадкові дані. Дані мають відповідати вимогам"
   ]
  },
  {
   "cell_type": "code",
   "execution_count": 2,
   "metadata": {},
   "outputs": [],
   "source": [
    "#Імпортування бібліотек\n",
    "import numpy as np\n",
    "import pandas as pd\n",
    "import scipy.stats as ss\n",
    "import seaborn as sns\n",
    "import math\n",
    "import matplotlib.pyplot as plt"
   ]
  },
  {
   "cell_type": "code",
   "execution_count": 3,
   "metadata": {},
   "outputs": [
    {
     "data": {
      "text/html": [
       "<div>\n",
       "<style scoped>\n",
       "    .dataframe tbody tr th:only-of-type {\n",
       "        vertical-align: middle;\n",
       "    }\n",
       "\n",
       "    .dataframe tbody tr th {\n",
       "        vertical-align: top;\n",
       "    }\n",
       "\n",
       "    .dataframe thead th {\n",
       "        text-align: right;\n",
       "    }\n",
       "</style>\n",
       "<table border=\"1\" class=\"dataframe\">\n",
       "  <thead>\n",
       "    <tr style=\"text-align: right;\">\n",
       "      <th>№</th>\n",
       "      <th>Курс(до)</th>\n",
       "      <th>Курс(після)</th>\n",
       "    </tr>\n",
       "  </thead>\n",
       "  <tbody>\n",
       "    <tr>\n",
       "      <td>1</td>\n",
       "      <td>25</td>\n",
       "      <td>22</td>\n",
       "    </tr>\n",
       "    <tr>\n",
       "      <td>2</td>\n",
       "      <td>23</td>\n",
       "      <td>25</td>\n",
       "    </tr>\n",
       "    <tr>\n",
       "      <td>3</td>\n",
       "      <td>28</td>\n",
       "      <td>23</td>\n",
       "    </tr>\n",
       "    <tr>\n",
       "      <td>4</td>\n",
       "      <td>29</td>\n",
       "      <td>22</td>\n",
       "    </tr>\n",
       "    <tr>\n",
       "      <td>5</td>\n",
       "      <td>35</td>\n",
       "      <td>30</td>\n",
       "    </tr>\n",
       "    <tr>\n",
       "      <td>6</td>\n",
       "      <td>31</td>\n",
       "      <td>27</td>\n",
       "    </tr>\n",
       "    <tr>\n",
       "      <td>7</td>\n",
       "      <td>24</td>\n",
       "      <td>20</td>\n",
       "    </tr>\n",
       "    <tr>\n",
       "      <td>8</td>\n",
       "      <td>24</td>\n",
       "      <td>19</td>\n",
       "    </tr>\n",
       "    <tr>\n",
       "      <td>9</td>\n",
       "      <td>38</td>\n",
       "      <td>32</td>\n",
       "    </tr>\n",
       "    <tr>\n",
       "      <td>10</td>\n",
       "      <td>26</td>\n",
       "      <td>25</td>\n",
       "    </tr>\n",
       "    <tr>\n",
       "      <td>11</td>\n",
       "      <td>20</td>\n",
       "      <td>20</td>\n",
       "    </tr>\n",
       "  </tbody>\n",
       "</table>\n",
       "</div>"
      ],
      "text/plain": [
       "№   Курс(до)  Курс(після)\n",
       "1         25           22\n",
       "2         23           25\n",
       "3         28           23\n",
       "4         29           22\n",
       "5         35           30\n",
       "6         31           27\n",
       "7         24           20\n",
       "8         24           19\n",
       "9         38           32\n",
       "10        26           25\n",
       "11        20           20"
      ]
     },
     "execution_count": 3,
     "metadata": {},
     "output_type": "execute_result"
    }
   ],
   "source": [
    "#Складаємо таблицю\n",
    "#Будуємо таблицю спряженості\n",
    "#Студенти вирішували логічні завдання до та після курсу навчання\n",
    "columns_before = [25,23,28,29,35,31,24,24,38,26,20]\n",
    "columns_after = [22,25,23,22,30,27,20,19,32,25,20]\n",
    "st_table = pd.DataFrame({'Курс(до)':columns_before,\n",
    "                         'Курс(після)':columns_after},\n",
    "                            index=np.arange(1, len(columns_before) + 1))\n",
    "st_table.columns.name = '№'\n",
    "\n",
    "st_table"
   ]
  },
  {
   "cell_type": "markdown",
   "metadata": {},
   "source": [
    "2. Побудувати графік, що відображає розкид даних в групах"
   ]
  },
  {
   "cell_type": "code",
   "execution_count": 4,
   "metadata": {},
   "outputs": [
    {
     "data": {
      "text/plain": [
       "[Text(0, 0.5, 'Вирішення логічного завдання до та після курсу'),\n",
       " Text(0.5, 0, 'секунди')]"
      ]
     },
     "execution_count": 4,
     "metadata": {},
     "output_type": "execute_result"
    },
    {
     "data": {
      "image/png": "[encoded data removed]",
      "text/plain": [
       "<Figure size 432x288 with 1 Axes>"
      ]
     },
     "metadata": {
      "needs_background": "light"
     },
     "output_type": "display_data"
    }
   ],
   "source": [
    "#Діаграма розмаху, коро́бковий графік, графік «ящик з вусами» — засіб візуалізації в описовій статистиці груп числових даних \n",
    "#через їх квантилі. Коробковий графік може також мати лінії, які виходять вертикально з коробки (вони називаються вусами), \n",
    "#вони вказують величину мінливості поза верхньою та нижньою межами квантиля. Викиди може бути нанесено у вигляді точок.\n",
    "\n",
    "sns.boxplot( data=st_table, orient='h', palette='coolwarm').set(xlabel='секунди', \n",
    "                                                        ylabel='Вирішення логічного завдання до та після курсу')"
   ]
  },
  {
   "cell_type": "markdown",
   "metadata": {},
   "source": [
    "3. Написати функцію для оцінки зв'язку між групами за коефіцієнтом кореляції Пірсона. Функція має повертати значення коефіцієнту кореляції, значення ступеня свободи та результат оцінки значимості зв'зку (significant або not significant)"
   ]
  },
  {
   "cell_type": "code",
   "execution_count": 5,
   "metadata": {},
   "outputs": [],
   "source": [
    "#Коефіцієнт кореції Пірсона обчислюється за формулою \n",
    "#r=n*sum_product - (sum_b * sum_a) / sqrt((n*sum_sq_b - sum_sum_b)*(n*sum_sq_a - sum_sum_a))\n",
    "\n",
    "def Pirson_koef(col_b, col_a):\n",
    "    n=len(col_b) #n - кількість\n",
    "    \n",
    "    sum_product = 0\n",
    "    for i in range(len(col_b)):\n",
    "        sum_product += col_b[i] * col_a[i] \n",
    "    \n",
    "    sum_b=sum(col_b)\n",
    "    sum_a=sum(col_a)\n",
    "    \n",
    "    sum_sum_b = sum_b**2\n",
    "    sum_sum_a = sum_a**2\n",
    "    \n",
    "    sum_sq_b = 0\n",
    "    sum_sq_a = 0\n",
    "    for i in range(len(col_b)):\n",
    "        sum_sq_b += col_b[i] **2\n",
    "        sum_sq_a += col_a[i] **2\n",
    "        \n",
    "    r=((n*sum_product) - (sum_b*sum_a))/math.sqrt(((n*sum_sq_b) - sum_sum_b) * ((n*sum_sq_a) - sum_sum_a))\n",
    "    print(\"Коефіцієнт Пірсона: r = \", r)\n",
    "    \n",
    "    #Розраховуємо число ступенів свободи\n",
    "    df = n-2\n",
    "    print(\"Число ступенів свободи: df = \", df)\n",
    "    \n",
    "    #Робота з файлом\n",
    "  \n",
    "    #Загружаємо необхідні бібліотеки\n",
    "    import xlrd, xlwt\n",
    "    #Відкриваємо xlsx файл\n",
    "    rb = xlrd.open_workbook('tabl_1_Pirson_koef.xlsx')\n",
    "    #Вибираємо активний лист (індексація з 0)\n",
    "    sheet = rb.sheet_by_index(0)\n",
    "    #Отримуємо значення необхідної нам ячейки (номер рядка - тобто ступінь свободи)[номер стовпчика]\n",
    "    r_tabl = sheet.row_values(df)[1] #1 - це стовбець в якому знаходиться потрібне значення\n",
    "    print(\"Критичне значення: r_tabl = \",r_tabl)\n",
    "    \n",
    "    if(r_tabl < r):\n",
    "        result = \"significant\" #існує статистично значима залежність між групами \n",
    "    else:\n",
    "        result = \"not significant\" #не існує статистично значима залежність між групами\n",
    "    print(\"Результат оцінки значимості зв'язку:\", result)"
   ]
  },
  {
   "cell_type": "code",
   "execution_count": 6,
   "metadata": {},
   "outputs": [
    {
     "name": "stdout",
     "output_type": "stream",
     "text": [
      "Коефіцієнт Пірсона: r =  0.8662517384918503\n",
      "Число ступенів свободи: df =  9\n",
      "Критичне значення: r_tabl =  0.6021\n",
      "Результат оцінки значимості зв'язку: significant\n"
     ]
    }
   ],
   "source": [
    "#Перед визначенням відмінності за парним критерієм Стьюента необхідно перевірити чи є зв'язок між групами\n",
    "#Для цього використовують коефіцієнт кореляції Пірсона\n",
    "\n",
    "Pirson_koef(columns_before, columns_after)"
   ]
  },
  {
   "cell_type": "markdown",
   "metadata": {},
   "source": [
    "4. Написати функцію для визначення відмінності між групами за критерієм Стьюдента. Функція має повертати значення критерію Стьюдента,значення ступеня свободи та результат оцінки значимості зв'зку (significant або not significant)"
   ]
  },
  {
   "cell_type": "code",
   "execution_count": 7,
   "metadata": {},
   "outputs": [],
   "source": [
    "#Функція для обчислення коефіцієнту Стюдента обчислюється за формулою\n",
    "#t_st = (Md/qd) * sqrt(n) \n",
    "\n",
    "def Student_koef(st_table, col_b, col_a):\n",
    "    diff = []\n",
    "    n = len(col_b)\n",
    " \n",
    "    for i in range(n):\n",
    "        diff.append(col_b[i] - col_a[i])\n",
    "    \n",
    "    #Зобразимо таблицю зі значеннями різниці\n",
    "    st_table[\"До - Після\"] = diff\n",
    "    st_table.append(diff)\n",
    "    print(st_table)\n",
    "    \n",
    "    #Середнє значення різниці\n",
    "    Md = sum(diff)/n \n",
    "    \n",
    "    #Стандартне відхилення між значеннями \n",
    "    #std() - обчислює середньоквадратичне (стандартне) відхилення елементів масива\n",
    "    qd = np.std(diff, ddof = 1) #на основі незміщеної оцінки дисперсії,коли ddof=1 (за замовчуванням ddof=0)\n",
    "   \n",
    "    #Значення критерія Стюдента\n",
    "    t_st = (Md/qd)*math.sqrt(n)\n",
    "    print('')\n",
    "    print(\"Значення критерію Стюдента: t_st = \", t_st)\n",
    "    \n",
    "    #Знаходимо значення ступеня свободи критерію\n",
    "    df = n - 1\n",
    "    print(\"Число ступенів свободи: df = \", df)\n",
    "    \n",
    "    #Робота з файлом\n",
    "  \n",
    "    #Загружаємо необхідні бібліотеки\n",
    "    import xlrd, xlwt\n",
    "    #Відкриваємо xlsx файл\n",
    "    rb = xlrd.open_workbook('tabl_2_Student_koef.xlsx')\n",
    "    #Вибираємо активний лист (індексація з 0)\n",
    "    sheet = rb.sheet_by_index(0)\n",
    "    #Отримуємо значення необхідної нам ячейки (номер рядка - тобто ступінь свободи)[номер стовпчика]\n",
    "    t_tabl = sheet.row_values(df)[1] #1 - це стовбець в якому знаходиться потрібне значення\n",
    "    \n",
    "    print(\"Критичне значення: t_tabl = \",t_tabl)\n",
    "    \n",
    "    if(t_tabl < t_st):\n",
    "        result = \"significant\" #приймається H1\n",
    "    else:\n",
    "        result = \"not significant\"  #приймається H0\n",
    "    print(\"Результат оцінки значимості зв'язку:\", result)\n",
    "    \n",
    "    "
   ]
  },
  {
   "cell_type": "code",
   "execution_count": 8,
   "metadata": {},
   "outputs": [
    {
     "name": "stdout",
     "output_type": "stream",
     "text": [
      "№   Курс(до)  Курс(після)  До - Після\n",
      "1         25           22           3\n",
      "2         23           25          -2\n",
      "3         28           23           5\n",
      "4         29           22           7\n",
      "5         35           30           5\n",
      "6         31           27           4\n",
      "7         24           20           4\n",
      "8         24           19           5\n",
      "9         38           32           6\n",
      "10        26           25           1\n",
      "11        20           20           0\n",
      "\n",
      "Значення критерію Стюдента: t_st =  4.191289774719603\n",
      "Число ступенів свободи: df =  10\n",
      "Критичне значення: t_tabl =  2.228\n",
      "Результат оцінки значимості зв'язку: significant\n"
     ]
    }
   ],
   "source": [
    "Student_koef(st_table,columns_before, columns_after)"
   ]
  },
  {
   "cell_type": "markdown",
   "metadata": {},
   "source": [
    "5. Сформувати висновок про взаємозв'язок між групами та про їх розбіжність"
   ]
  },
  {
   "cell_type": "markdown",
   "metadata": {},
   "source": [
    "Висновок:"
   ]
  },
  {
   "cell_type": "markdown",
   "metadata": {},
   "source": [
    "Аналізуючи швидкість розв'язування студетами логічного завдання до та після курсу можна зробити висновок що:\n",
    "1. За коефіцієнтом кореляції Пірсона було доведено, що існує статистично значима залежность між групами. Так як коефіцієнт кореляції менший за табличний ( r_tabl < r ), величина цього зв'язку: \"висока\" так як r = 0.87\n",
    "2. Присутня наявність статистично значущих відмінностей швидкості вирішення логічної задачі студентами до та після курсу (так як t_tabl < t_st), звітси слідує, що була прийнята альтернативна гіпотеза про відмінність середніх"
   ]
  },
  {
   "cell_type": "code",
   "execution_count": null,
   "metadata": {},
   "outputs": [],
   "source": []
  }
 ],
 "metadata": {
  "kernelspec": {
   "display_name": "Python 3",
   "language": "python",
   "name": "python3"
  },
  "language_info": {
   "codemirror_mode": {
    "name": "ipython",
    "version": 3
   },
   "file_extension": ".py",
   "mimetype": "text/x-python",
   "name": "python",
   "nbconvert_exporter": "python",
   "pygments_lexer": "ipython3",
   "version": "3.7.4"
  }
 },
 "nbformat": 4,
 "nbformat_minor": 2
}
