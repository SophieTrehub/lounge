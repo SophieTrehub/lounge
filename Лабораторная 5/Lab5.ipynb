{
 "cells": [
  {
   "cell_type": "markdown",
   "metadata": {},
   "source": [
    "Назва дисципліни: Обробка та аналіз біомедичних даних"
   ]
  },
  {
   "cell_type": "markdown",
   "metadata": {},
   "source": [
    "Група: БС-83"
   ]
  },
  {
   "cell_type": "markdown",
   "metadata": {},
   "source": [
    "Студент: Каліновська Б.В."
   ]
  },
  {
   "cell_type": "markdown",
   "metadata": {},
   "source": [
    "Лабораторна робота №5"
   ]
  },
  {
   "cell_type": "markdown",
   "metadata": {},
   "source": [
    "Тема:Критерій Пірсона для порівняння декількох груп за розподіленням ознаки  "
   ]
  },
  {
   "cell_type": "markdown",
   "metadata": {},
   "source": [
    "Завдання:"
   ]
  },
  {
   "cell_type": "markdown",
   "metadata": {},
   "source": [
    "1. Обрати реальні дані з kaggle або сгенерувати випадкові дані, що містять розподіл деякої ознаки в двох групах"
   ]
  },
  {
   "cell_type": "code",
   "execution_count": 2,
   "metadata": {},
   "outputs": [],
   "source": [
    "#Імпортуємо бібліотеки які нам будуть потрібні\n",
    "import numpy as np\n",
    "import pandas as pd\n",
    "import matplotlib.pyplot as plt\n",
    "import seaborn as sns "
   ]
  },
  {
   "cell_type": "code",
   "execution_count": 116,
   "metadata": {},
   "outputs": [
    {
     "data": {
      "text/html": [
       "<div>\n",
       "<style scoped>\n",
       "    .dataframe tbody tr th:only-of-type {\n",
       "        vertical-align: middle;\n",
       "    }\n",
       "\n",
       "    .dataframe tbody tr th {\n",
       "        vertical-align: top;\n",
       "    }\n",
       "\n",
       "    .dataframe thead th {\n",
       "        text-align: right;\n",
       "    }\n",
       "</style>\n",
       "<table border=\"1\" class=\"dataframe\">\n",
       "  <thead>\n",
       "    <tr style=\"text-align: right;\">\n",
       "      <th></th>\n",
       "      <th>Gr_1</th>\n",
       "      <th>Gr_2</th>\n",
       "    </tr>\n",
       "  </thead>\n",
       "  <tbody>\n",
       "    <tr>\n",
       "      <td>Grad_1</td>\n",
       "      <td>23</td>\n",
       "      <td>21</td>\n",
       "    </tr>\n",
       "    <tr>\n",
       "      <td>Grad_2</td>\n",
       "      <td>25</td>\n",
       "      <td>24</td>\n",
       "    </tr>\n",
       "    <tr>\n",
       "      <td>Grad_3</td>\n",
       "      <td>24</td>\n",
       "      <td>25</td>\n",
       "    </tr>\n",
       "    <tr>\n",
       "      <td>Grad_4</td>\n",
       "      <td>26</td>\n",
       "      <td>25</td>\n",
       "    </tr>\n",
       "    <tr>\n",
       "      <td>Grad_5</td>\n",
       "      <td>25</td>\n",
       "      <td>28</td>\n",
       "    </tr>\n",
       "  </tbody>\n",
       "</table>\n",
       "</div>"
      ],
      "text/plain": [
       "        Gr_1  Gr_2\n",
       "Grad_1    23    21\n",
       "Grad_2    25    24\n",
       "Grad_3    24    25\n",
       "Grad_4    26    25\n",
       "Grad_5    25    28"
      ]
     },
     "execution_count": 116,
     "metadata": {},
     "output_type": "execute_result"
    }
   ],
   "source": [
    "#Будуємо таблицю спряженості\n",
    "table = pd.DataFrame({'Gr_1':[23,25,24,26,25],\n",
    "                      'Gr_2':[21,24,25,25,28]},\n",
    "                    index = ['Grad_1','Grad_2','Grad_3','Grad_4','Grad_5'])\n",
    "table"
   ]
  },
  {
   "cell_type": "markdown",
   "metadata": {},
   "source": [
    "2. Побудувати графік, що відображає розподіл ознак в групах"
   ]
  },
  {
   "cell_type": "code",
   "execution_count": 117,
   "metadata": {},
   "outputs": [
    {
     "data": {
      "text/plain": [
       "[<matplotlib.lines.Line2D at 0x27fa3521bc8>]"
      ]
     },
     "execution_count": 117,
     "metadata": {},
     "output_type": "execute_result"
    },
    {
     "data": {
      "image/png": "[encoded data removed]",
      "text/plain": [
       "<Figure size 432x288 with 2 Axes>"
      ]
     },
     "metadata": {
      "needs_background": "light"
     },
     "output_type": "display_data"
    }
   ],
   "source": [
    "#Для побудови декількох графіків поруч використовують команду subplot \n",
    "#create first plot: 1 row, 2 colums, 1st plot\n",
    "plt.subplot(1, 2, 1) \n",
    "plt.plot(table.index, table['Gr_1'], 'r')\n",
    "\n",
    "#create second plot: 1 row, 2 colums, 2d plot\n",
    "plt.subplot(1, 2, 2) \n",
    "plt.plot(table.index, table['Gr_2'], 'b')"
   ]
  },
  {
   "cell_type": "code",
   "execution_count": 118,
   "metadata": {},
   "outputs": [
    {
     "data": {
      "text/plain": [
       "Text(0.5, 0, 'Градація ознак')"
      ]
     },
     "execution_count": 118,
     "metadata": {},
     "output_type": "execute_result"
    },
    {
     "data": {
      "image/png": "[encoded data removed]",
      "text/plain": [
       "<Figure size 432x288 with 1 Axes>"
      ]
     },
     "metadata": {
      "needs_background": "light"
     },
     "output_type": "display_data"
    }
   ],
   "source": [
    "plt.bar(table.index, table['Gr_1'])\n",
    "plt.title(\"Gr_1\")\n",
    "plt.ylabel(\"Частоти\")\n",
    "plt.xlabel(\"Градація ознак\")"
   ]
  },
  {
   "cell_type": "code",
   "execution_count": 119,
   "metadata": {},
   "outputs": [
    {
     "data": {
      "text/plain": [
       "Text(0.5, 0, 'Градація ознак')"
      ]
     },
     "execution_count": 119,
     "metadata": {},
     "output_type": "execute_result"
    },
    {
     "data": {
      "image/png": "[encoded data removed]",
      "text/plain": [
       "<Figure size 432x288 with 1 Axes>"
      ]
     },
     "metadata": {
      "needs_background": "light"
     },
     "output_type": "display_data"
    }
   ],
   "source": [
    "plt.bar(table.index, table['Gr_2'])\n",
    "plt.title(\"Gr_2\")\n",
    "plt.ylabel(\"Частоти\")\n",
    "plt.xlabel(\"Градація ознак\")"
   ]
  },
  {
   "cell_type": "markdown",
   "metadata": {},
   "source": [
    "3. Написати функцію, що оцінює зв'язок між ознакою та групою за критерієм Пірсона. Функція має оцінювати розбіжність на двох рівнях 0,01 та 0,05, в залежністі від параметру significant_level, що передається в неї. Врахувати у функції випадок, що сума частот ознаки у групах може бути відмінною"
   ]
  },
  {
   "cell_type": "code",
   "execution_count": 120,
   "metadata": {},
   "outputs": [],
   "source": [
    "def Pirson_x_sq (table, significant_level, num_level):\n",
    "    #Визначаємо різницю між екстр та контр частотами для кожної градації\n",
    "    print(\"-------------------------------------------\")\n",
    "    print(\"significant_level = \", significant_level)\n",
    "    print(\"-------------------------------------------\")\n",
    "    zm = 0\n",
    "    prob = 0\n",
    "    x_emp = 0\n",
    "    gr_n=[]   #(n-n')^2\n",
    "    gr_n_div=[] #(n-n')^2 / n'\n",
    "    \n",
    "    l_st=len(table.iloc[:,0])\n",
    "    for i in range(l_st):\n",
    "        zm = table.iloc[i,0] - table.iloc[i,1]\n",
    "        zm_sq = zm**2 #(n-n')^2\n",
    "        gr_n.append(zm_sq)\n",
    "        zm_sq_div = zm_sq/table.iloc[i,1] #(n-n')^2 / n'\n",
    "        gr_n_div.append(zm_sq_div)\n",
    "        x_emp += zm_sq_div #Сума отриманих значень\n",
    "    #Оформлення таблиці\n",
    "    table[\"(n-n')^2\"] = gr_n         #додаємо два нових стовбця\n",
    "    table[\"(n-n')^2 / n\"] = gr_n_div\n",
    "    print(table)\n",
    "    print('')\n",
    "    print(\"Сума отриманих значень: χ^2 =\",x_emp)\n",
    "    \n",
    "    #Визначаємо ступінь свободи критерію\n",
    "    r= l_st - 1\n",
    "    print(\"Ступінь свободи: r =\",r)\n",
    "    \n",
    "    #Робота з файлом\n",
    "  \n",
    "    #Загружаємо необхідні бібліотеки\n",
    "    import xlrd, xlwt\n",
    "    #Відкриваємо xlsx файл\n",
    "    rb = xlrd.open_workbook('x_criticale.xlsx')\n",
    "    #Вибираємо активний лист (індексація з 0)\n",
    "    sheet = rb.sheet_by_index(0)\n",
    "    #Отримуємо значення необхідної нам ячейки (номер рядка - тобто ступінь свободи)[номер стовпчика]\n",
    "    \n",
    "    x_kr = sheet.row_values(r+1)[num_level]\n",
    "    print(\"χ^2 критичне = \", x_kr)\n",
    "    \n",
    "    text = 0   \n",
    "    if((x_emp**2) > (x_kr**2)):\n",
    "        text = \"Розбіжність значима бо χ^2 > χ^2(критичне)\"%table\n",
    "        result = \"significant\"\n",
    "    else:\n",
    "        text = \"Розбіжність незначима бо χ^2 < χ^2(критичне)\"%table\n",
    "        result = \"not significant\"\n",
    "    print(text)\n",
    "    print(\"\")\n",
    "    return result"
   ]
  },
  {
   "cell_type": "code",
   "execution_count": 121,
   "metadata": {},
   "outputs": [
    {
     "name": "stdout",
     "output_type": "stream",
     "text": [
      "-------------------------------------------\n",
      "significant_level =  0.01\n",
      "-------------------------------------------\n",
      "        Gr_1  Gr_2  (n-n')^2  (n-n')^2 / n\n",
      "Grad_1    23    21         4      0.190476\n",
      "Grad_2    25    24         1      0.041667\n",
      "Grad_3    24    25         1      0.040000\n",
      "Grad_4    26    25         1      0.040000\n",
      "Grad_5    25    28         9      0.321429\n",
      "\n",
      "Сума отриманих значень: χ^2 = 0.6335714285714286\n",
      "Ступінь свободи: r = 4\n",
      "χ^2 критичне =  13.3\n",
      "Розбіжність незначима бо χ^2 < χ^2(критичне)\n",
      "\n"
     ]
    },
    {
     "data": {
      "text/plain": [
       "'not significant'"
      ]
     },
     "execution_count": 121,
     "metadata": {},
     "output_type": "execute_result"
    }
   ],
   "source": [
    "#Розбіжність на рівні 0,01\n",
    "Pirson_x_sq (table, 0.01, 1) #3 параметр - це номер стовпця в таблиці для 0.01"
   ]
  },
  {
   "cell_type": "code",
   "execution_count": 122,
   "metadata": {},
   "outputs": [
    {
     "name": "stdout",
     "output_type": "stream",
     "text": [
      "-------------------------------------------\n",
      "significant_level =  0.05\n",
      "-------------------------------------------\n",
      "        Gr_1  Gr_2  (n-n')^2  (n-n')^2 / n\n",
      "Grad_1    23    21         4      0.190476\n",
      "Grad_2    25    24         1      0.041667\n",
      "Grad_3    24    25         1      0.040000\n",
      "Grad_4    26    25         1      0.040000\n",
      "Grad_5    25    28         9      0.321429\n",
      "\n",
      "Сума отриманих значень: χ^2 = 0.6335714285714286\n",
      "Ступінь свободи: r = 4\n",
      "χ^2 критичне =  9.5\n",
      "Розбіжність незначима бо χ^2 < χ^2(критичне)\n",
      "\n"
     ]
    },
    {
     "data": {
      "text/plain": [
       "'not significant'"
      ]
     },
     "execution_count": 122,
     "metadata": {},
     "output_type": "execute_result"
    }
   ],
   "source": [
    "#Розбіжність на рівні 0,05\n",
    "Pirson_x_sq (table, 0.05, 2) #3 параметр - це номер стовпця в таблиці "
   ]
  },
  {
   "cell_type": "markdown",
   "metadata": {},
   "source": [
    "4. Додати до таблиці стовбчики з відсотовим розподілом по градаціям всередині груп. Окремо вивести результати роботи критерію (чи є статистична розбіжність між групами)"
   ]
  },
  {
   "cell_type": "code",
   "execution_count": 123,
   "metadata": {},
   "outputs": [
    {
     "name": "stdout",
     "output_type": "stream",
     "text": [
      "        Gr_1  Gr_2    Gr_1 %    Gr_2 %\n",
      "Grad_1    23    21  18.69919  17.07317\n",
      "Grad_2    25    24  20.32520  19.51220\n",
      "Grad_3    24    25  19.51220  20.32520\n",
      "Grad_4    26    25  21.13821  20.32520\n",
      "Grad_5    25    28  20.32520  22.76423\n"
     ]
    }
   ],
   "source": [
    "sum_1 = 0\n",
    "sum_2 = 0\n",
    "\n",
    "len_st=len(table.iloc[:,0])\n",
    "\n",
    "for i in range(len_st):\n",
    "    sum_1 += table.iloc[i,0]\n",
    "    \n",
    "for i in range(len_st):\n",
    "    sum_2 += table.iloc[i,1]\n",
    "\n",
    "gr_1_per = []\n",
    "gr_2_per = []\n",
    "\n",
    "tmp1 = 0\n",
    "for i in range(len_st):\n",
    "    tmp1 = (table.iloc[i,0] * 100) / sum_1\n",
    "    tmp1 = float('{:.5f}'.format(tmp1)) #Скорочуємо кількість знаків після коми до 5\n",
    "    gr_1_per.append(tmp1)\n",
    "\n",
    "tmp2 = 0\n",
    "for i in range(len_st):\n",
    "    tmp2 = (table.iloc[i,1] * 100) / sum_2\n",
    "    tmp2 = float('{:.5f}'.format(tmp2)) #Скорочуємо кількість знаків після коми до 5\n",
    "    gr_2_per.append(tmp2)\n",
    "\n",
    "#Формуємо таблицю\n",
    "new_table = pd.DataFrame({'Gr_1':[23,25,24,26,25],\n",
    "                   'Gr_2':[21,24,25,25,28]},\n",
    "                    index = ['Grad_1','Grad_2','Grad_3','Grad_4','Grad_5'])\n",
    "\n",
    "new_table[\"Gr_1 %\"] = gr_1_per         #додаємо два нових стовбця\n",
    "new_table[\"Gr_2 %\"] = gr_2_per\n",
    "print(new_table)"
   ]
  },
  {
   "cell_type": "code",
   "execution_count": 124,
   "metadata": {},
   "outputs": [
    {
     "name": "stdout",
     "output_type": "stream",
     "text": [
      "-------------------------------------------\n",
      "significant_level =  0.01\n",
      "-------------------------------------------\n",
      "        Gr_1  Gr_2  (n-n')^2  (n-n')^2 / n\n",
      "Grad_1    23    21         4      0.190476\n",
      "Grad_2    25    24         1      0.041667\n",
      "Grad_3    24    25         1      0.040000\n",
      "Grad_4    26    25         1      0.040000\n",
      "Grad_5    25    28         9      0.321429\n",
      "\n",
      "Сума отриманих значень: χ^2 = 0.6335714285714286\n",
      "Ступінь свободи: r = 4\n",
      "χ^2 критичне =  13.3\n",
      "Розбіжність незначима бо χ^2 < χ^2(критичне)\n",
      "\n",
      "-------------------------------------------\n",
      "significant_level =  0.05\n",
      "-------------------------------------------\n",
      "        Gr_1  Gr_2  (n-n')^2  (n-n')^2 / n\n",
      "Grad_1    23    21         4      0.190476\n",
      "Grad_2    25    24         1      0.041667\n",
      "Grad_3    24    25         1      0.040000\n",
      "Grad_4    26    25         1      0.040000\n",
      "Grad_5    25    28         9      0.321429\n",
      "\n",
      "Сума отриманих значень: χ^2 = 0.6335714285714286\n",
      "Ступінь свободи: r = 4\n",
      "χ^2 критичне =  9.5\n",
      "Розбіжність незначима бо χ^2 < χ^2(критичне)\n",
      "\n"
     ]
    },
    {
     "data": {
      "text/html": [
       "<div>\n",
       "<style scoped>\n",
       "    .dataframe tbody tr th:only-of-type {\n",
       "        vertical-align: middle;\n",
       "    }\n",
       "\n",
       "    .dataframe tbody tr th {\n",
       "        vertical-align: top;\n",
       "    }\n",
       "\n",
       "    .dataframe thead th {\n",
       "        text-align: right;\n",
       "    }\n",
       "</style>\n",
       "<table border=\"1\" class=\"dataframe\">\n",
       "  <thead>\n",
       "    <tr style=\"text-align: right;\">\n",
       "      <th>significant level</th>\n",
       "      <th>Рівень значимості</th>\n",
       "    </tr>\n",
       "  </thead>\n",
       "  <tbody>\n",
       "    <tr>\n",
       "      <td>0.01</td>\n",
       "      <td>not significant</td>\n",
       "    </tr>\n",
       "    <tr>\n",
       "      <td>0.05</td>\n",
       "      <td>not significant</td>\n",
       "    </tr>\n",
       "  </tbody>\n",
       "</table>\n",
       "</div>"
      ],
      "text/plain": [
       "significant level Рівень значимості\n",
       "0.01                not significant\n",
       "0.05                not significant"
      ]
     },
     "execution_count": 124,
     "metadata": {},
     "output_type": "execute_result"
    }
   ],
   "source": [
    "#Виводимо результати всієї роботи критерію\n",
    "result_table = pd.DataFrame( {\"Рівень значимості\":[Pirson_x_sq (table, 0.01, 1), Pirson_x_sq (table, 0.05, 2)]},\n",
    "                        index = [\"0.01\",\"0.05\"])\n",
    "result_table.columns.name = \"significant level\"\n",
    "result_table"
   ]
  },
  {
   "cell_type": "markdown",
   "metadata": {},
   "source": [
    "Висновок:"
   ]
  },
  {
   "cell_type": "markdown",
   "metadata": {},
   "source": [
    "Під час порівняння декількох груп за розподіленням ознаки за допомогою Критерію Пірсона, було отримано результат, що статична розбіжність між групами на рівнях значимості 0.05 і 0.01 є статистично незначимою, так як в двох випадках χ^2 < χ^2(критичне)"
   ]
  },
  {
   "cell_type": "code",
   "execution_count": null,
   "metadata": {},
   "outputs": [],
   "source": []
  }
 ],
 "metadata": {
  "kernelspec": {
   "display_name": "Python 3",
   "language": "python",
   "name": "python3"
  },
  "language_info": {
   "codemirror_mode": {
    "name": "ipython",
    "version": 3
   },
   "file_extension": ".py",
   "mimetype": "text/x-python",
   "name": "python",
   "nbconvert_exporter": "python",
   "pygments_lexer": "ipython3",
   "version": "3.7.4"
  }
 },
 "nbformat": 4,
 "nbformat_minor": 2
}
